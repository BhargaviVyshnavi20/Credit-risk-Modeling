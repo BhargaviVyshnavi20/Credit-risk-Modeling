{
 "cells": [
  {
   "cell_type": "code",
   "execution_count": null,
   "id": "34dca2db",
   "metadata": {},
   "outputs": [],
   "source": [
    "import pandas as pd\n",
    "import numpy as np\n",
    "from matplotlib import pyplot as plt\n",
    "import seaborn as sns\n",
    "from sklearn.model_selection import train_test_split\n",
    "\n",
    "pd.set_option('display.float_format', lambda x: '{:.2f}'.format(x))\n",
    "np.set_printoptions(suppress=True)"
   ]
  },
  {
   "cell_type": "markdown",
   "id": "efdaa2c2",
   "metadata": {},
   "source": [
    "### Load Data"
   ]
  },
  {
   "cell_type": "code",
   "execution_count": null,
   "id": "ef9716ba",
   "metadata": {},
   "outputs": [],
   "source": [
    "df_customers = pd.read_csv(\"credit_risk_modeling_resources/customers.csv\")\n",
    "df_loans = pd.read_csv(\"credit_risk_modeling_resources/loans.csv\")\n",
    "df_bureau = pd.read_csv(\"credit_risk_modeling_resources/bureau_data.csv\")"
   ]
  },
  {
   "cell_type": "code",
   "execution_count": null,
   "id": "aae34d70",
   "metadata": {},
   "outputs": [],
   "source": [
    "df_customers.shape, df_loans.shape, df_bureau.shape"
   ]
  },
  {
   "cell_type": "code",
   "execution_count": null,
   "id": "740cd4ec",
   "metadata": {},
   "outputs": [],
   "source": [
    "df_customers.head(3)"
   ]
  },
  {
   "cell_type": "code",
   "execution_count": null,
   "id": "850fcdf5",
   "metadata": {},
   "outputs": [],
   "source": [
    "df_loans.head(3)"
   ]
  },
  {
   "cell_type": "code",
   "execution_count": null,
   "id": "b8433c82",
   "metadata": {
    "scrolled": true
   },
   "outputs": [],
   "source": [
    "df_bureau.head(3)"
   ]
  },
  {
   "cell_type": "code",
   "execution_count": null,
   "id": "72ad19b1",
   "metadata": {},
   "outputs": [],
   "source": [
    "df = pd.merge(df_customers, df_loans, on='cust_id')\n",
    "df.head(3)"
   ]
  },
  {
   "cell_type": "code",
   "execution_count": null,
   "id": "1b44db9f",
   "metadata": {},
   "outputs": [],
   "source": [
    "df = pd.merge(df, df_bureau, on='cust_id')\n",
    "df.head(3)"
   ]
  },
  {
   "cell_type": "code",
   "execution_count": null,
   "id": "ed11361e",
   "metadata": {},
   "outputs": [],
   "source": [
    "df.info()"
   ]
  },
  {
   "cell_type": "code",
   "execution_count": null,
   "id": "3ae6caf4",
   "metadata": {},
   "outputs": [],
   "source": [
    "df['default'] = df['default'].astype(int)\n",
    "df.default.value_counts()"
   ]
  },
  {
   "cell_type": "markdown",
   "id": "7c7f58c0",
   "metadata": {},
   "source": [
    "default is a target variable and we can see some class imbalance here. We will address it later on."
   ]
  },
  {
   "cell_type": "markdown",
   "id": "527e4bff",
   "metadata": {},
   "source": [
    "### Train Test split"
   ]
  },
  {
   "cell_type": "markdown",
   "id": "b2ae3b30",
   "metadata": {},
   "source": [
    "We perform train test split before doing EDA to prevent data leakage. We don't want test set (which is part of the entire dataset) to influence EDA or any decisions on feature engineering. "
   ]
  },
  {
   "cell_type": "code",
   "execution_count": null,
   "id": "dd73d155",
   "metadata": {
    "scrolled": true
   },
   "outputs": [],
   "source": [
    "X = df.drop(\"default\", axis=\"columns\")\n",
    "y = df['default']\n",
    "\n",
    "X_train,X_test,y_train,y_test=train_test_split(X,y,stratify=y,test_size=0.25,random_state=42)\n",
    "\n",
    "df_train = pd.concat([X_train, y_train], axis=\"columns\")\n",
    "df_test = pd.concat([X_test, y_test], axis=\"columns\")\n",
    "\n",
    "df_train.head(2)"
   ]
  },
  {
   "cell_type": "markdown",
   "id": "9ff8de13",
   "metadata": {},
   "source": [
    "<h3 align=\"center\" style=\"color:blue\">Data Cleaning</h3>"
   ]
  },
  {
   "cell_type": "markdown",
   "id": "db91429b",
   "metadata": {},
   "source": [
    "### Handle Missing & Duplicate Values"
   ]
  },
  {
   "cell_type": "code",
   "execution_count": null,
   "id": "2fd0c876",
   "metadata": {},
   "outputs": [],
   "source": [
    "df_train.shape"
   ]
  },
  {
   "cell_type": "code",
   "execution_count": null,
   "id": "fbb14981",
   "metadata": {},
   "outputs": [],
   "source": [
    "df_train.isna().sum()"
   ]
  },
  {
   "cell_type": "code",
   "execution_count": null,
   "id": "533dc3ba",
   "metadata": {},
   "outputs": [],
   "source": [
    "df_train.residence_type.unique()"
   ]
  },
  {
   "cell_type": "code",
   "execution_count": null,
   "id": "cf620749",
   "metadata": {},
   "outputs": [],
   "source": [
    "mode_residence = df_train.residence_type.mode()[0]\n",
    "mode_residence"
   ]
  },
  {
   "cell_type": "code",
   "execution_count": null,
   "id": "57ad9a58",
   "metadata": {},
   "outputs": [],
   "source": [
    "df_train.residence_type.fillna(mode_residence, inplace=True)\n",
    "df_test.residence_type.fillna(mode_residence, inplace=True)\n",
    "\n",
    "df_train.residence_type.unique(), df_test.residence_type.unique()"
   ]
  },
  {
   "cell_type": "code",
   "execution_count": null,
   "id": "64b58e80",
   "metadata": {},
   "outputs": [],
   "source": [
    "df_train.duplicated().sum()"
   ]
  },
  {
   "cell_type": "code",
   "execution_count": null,
   "id": "04bb221c",
   "metadata": {},
   "outputs": [],
   "source": [
    "df_train.describe()"
   ]
  },
  {
   "cell_type": "code",
   "execution_count": null,
   "id": "ee2d35a4",
   "metadata": {},
   "outputs": [],
   "source": [
    "df_train.columns"
   ]
  },
  {
   "cell_type": "code",
   "execution_count": null,
   "id": "a90d5a3a",
   "metadata": {},
   "outputs": [],
   "source": [
    "columns_continuous = ['age', 'income', 'number_of_dependants', 'years_at_current_address', \n",
    "                      'sanction_amount', 'loan_amount', 'processing_fee', 'gst', 'net_disbursement', \n",
    "                      'loan_tenure_months','principal_outstanding', 'bank_balance_at_application',\n",
    "                      'number_of_open_accounts','number_of_closed_accounts', 'total_loan_months', 'delinquent_months',\n",
    "                       'total_dpd', 'enquiry_count', 'credit_utilization_ratio']\n",
    "\n",
    "columns_categorical = ['gender', 'marital_status', 'employment_status', 'residence_type', 'city', \n",
    "                       'state', 'zipcode', 'loan_purpose', 'loan_type', 'default']"
   ]
  },
  {
   "cell_type": "markdown",
   "id": "b9a16d78",
   "metadata": {},
   "source": [
    "### Box plot to visualize outliers"
   ]
  },
  {
   "cell_type": "code",
   "execution_count": null,
   "id": "ade07cf8",
   "metadata": {},
   "outputs": [],
   "source": [
    "num_plots = len(columns_continuous)\n",
    "num_cols = 4  # Number of plots per row\n",
    "num_rows = (num_plots + num_cols - 1) // num_cols  # Calculate the number of rows needed\n",
    "\n",
    "fig, axes = plt.subplots(num_rows, num_cols, figsize=(5 * num_cols, 5 * num_rows))  # Adjust the figure size as needed\n",
    "axes = axes.flatten()  # Flatten the axes array for easier indexing\n",
    "\n",
    "for i, col in enumerate(columns_continuous):\n",
    "    sns.boxplot(x=df_train[col], ax=axes[i])\n",
    "    axes[i].set_title(col)  # Set the title to the name of the variable\n",
    "\n",
    "# If there are any empty plots (if the number of plots isn't a perfect multiple of num_cols), hide the axes\n",
    "for j in range(i + 1, num_rows * num_cols):\n",
    "    axes[j].axis('off')\n",
    "\n",
    "plt.tight_layout()\n",
    "plt.show()"
   ]
  },
  {
   "cell_type": "code",
   "execution_count": null,
   "id": "b85e8392",
   "metadata": {},
   "outputs": [],
   "source": [
    "num_plots = len(columns_continuous)\n",
    "num_cols = 4  # Number of plots per row\n",
    "num_rows = (num_plots + num_cols - 1) // num_cols  # Calculate the number of rows needed\n",
    "\n",
    "fig, axes = plt.subplots(num_rows, num_cols, figsize=(5 * num_cols, 5 * num_rows))  # Adjust the figure size as needed\n",
    "axes = axes.flatten()  # Flatten the axes array for easier indexing\n",
    "\n",
    "for i, col in enumerate(columns_continuous):\n",
    "    sns.histplot(df_train[col], ax=axes[i])\n",
    "    axes[i].set_title(col)  # Set the title to the name of the variable\n",
    "\n",
    "# If there are any empty plots (if the number of plots isn't a perfect multiple of num_cols), hide the axes\n",
    "for j in range(i + 1, num_rows * num_cols):\n",
    "    axes[j].axis('off')\n",
    "\n",
    "plt.tight_layout()\n",
    "plt.show()"
   ]
  },
  {
   "cell_type": "markdown",
   "id": "3088ac78",
   "metadata": {},
   "source": [
    "### Outlier Removal: Processing Fee"
   ]
  },
  {
   "cell_type": "code",
   "execution_count": null,
   "id": "40e5491b",
   "metadata": {
    "scrolled": true
   },
   "outputs": [],
   "source": [
    "df_train.processing_fee.describe()"
   ]
  },
  {
   "cell_type": "code",
   "execution_count": null,
   "id": "69ff9c58",
   "metadata": {},
   "outputs": [],
   "source": [
    "df_train[(df_train.processing_fee/df_train.loan_amount)>0.03][[\"loan_amount\",\"processing_fee\"]]"
   ]
  },
  {
   "cell_type": "code",
   "execution_count": null,
   "id": "a6b725a7",
   "metadata": {},
   "outputs": [],
   "source": [
    "df_train_1 = df_train[df_train.processing_fee/df_train.loan_amount<0.03].copy()\n",
    "df_train_1.shape"
   ]
  },
  {
   "cell_type": "code",
   "execution_count": null,
   "id": "5ae79433",
   "metadata": {},
   "outputs": [],
   "source": [
    "df_test.residence_type.isna().sum()"
   ]
  },
  {
   "cell_type": "code",
   "execution_count": null,
   "id": "cf43065e",
   "metadata": {},
   "outputs": [],
   "source": [
    "# Apply same step on test set\n",
    "df_test = df_test[df_test.processing_fee/df_test.loan_amount<0.03].copy()\n",
    "df_test.shape"
   ]
  },
  {
   "cell_type": "code",
   "execution_count": null,
   "id": "ab2e0752",
   "metadata": {},
   "outputs": [],
   "source": [
    "# Use other business rules for data validation\n",
    "# Rule 1: GST should not be more than 20%\n",
    "\n",
    "df_train_1[(df_train_1.gst/df_train_1.loan_amount)>0.2].shape"
   ]
  },
  {
   "cell_type": "code",
   "execution_count": null,
   "id": "e8a87b0f",
   "metadata": {
    "scrolled": true
   },
   "outputs": [],
   "source": [
    "# Rule 2: Net disbursement should not be higher than loan_amount\n",
    "df_train_1[df_train_1.net_disbursement>df_train_1.loan_amount].shape"
   ]
  },
  {
   "cell_type": "markdown",
   "id": "c43d5caa",
   "metadata": {},
   "source": [
    "No rows found that breaks rule 1 and rule 2"
   ]
  },
  {
   "cell_type": "markdown",
   "id": "bd6102de",
   "metadata": {},
   "source": [
    "### Analyze Categorical Columns"
   ]
  },
  {
   "cell_type": "code",
   "execution_count": null,
   "id": "6ee2d406",
   "metadata": {},
   "outputs": [],
   "source": [
    "columns_categorical"
   ]
  },
  {
   "cell_type": "code",
   "execution_count": null,
   "id": "3f2c795d",
   "metadata": {
    "scrolled": true
   },
   "outputs": [],
   "source": [
    "for col in columns_categorical:\n",
    "    print(col, \"-->\", df_train_1[col].unique())"
   ]
  },
  {
   "cell_type": "markdown",
   "id": "ca96f95b",
   "metadata": {},
   "source": [
    "### Fix Errors in Loan Purpose Column"
   ]
  },
  {
   "cell_type": "code",
   "execution_count": null,
   "id": "d7a43fc9",
   "metadata": {},
   "outputs": [],
   "source": [
    "df_train_1['loan_purpose'] = df_train_1['loan_purpose'].replace('Personaal', 'Personal')\n",
    "df_train_1['loan_purpose'].unique()"
   ]
  },
  {
   "cell_type": "code",
   "execution_count": null,
   "id": "4824178d",
   "metadata": {},
   "outputs": [],
   "source": [
    "df_test['loan_purpose'] = df_test['loan_purpose'].replace('Personaal', 'Personal')\n",
    "df_test['loan_purpose'].unique()"
   ]
  },
  {
   "cell_type": "markdown",
   "id": "7fe5a809",
   "metadata": {},
   "source": [
    "<h3 style=\"color:blue\" align=\"center\">Exploratory Data Analysis</h3>"
   ]
  },
  {
   "cell_type": "code",
   "execution_count": null,
   "id": "046b98b0",
   "metadata": {},
   "outputs": [],
   "source": [
    "columns_continuous"
   ]
  },
  {
   "cell_type": "markdown",
   "id": "2a4bec95",
   "metadata": {},
   "source": [
    "### Age Column"
   ]
  },
  {
   "cell_type": "code",
   "execution_count": null,
   "id": "997005b2",
   "metadata": {},
   "outputs": [],
   "source": [
    "df_train_1.groupby(\"default\")['age'].describe()"
   ]
  },
  {
   "cell_type": "markdown",
   "id": "6de58ce9",
   "metadata": {},
   "source": [
    "**Insights**\n",
    "\n",
    "1. Average age in the default group is little less (37.12) than the average (39.7) of the group that did not default\n",
    "1. Variability (standard deviation) is mostly similar in both the groups\n",
    "1. Both the groups have similar min and max ages"
   ]
  },
  {
   "cell_type": "code",
   "execution_count": null,
   "id": "e50bca57",
   "metadata": {},
   "outputs": [],
   "source": [
    "plt.figure(figsize=(8, 4))\n",
    "sns.kdeplot(df_train_1['age'][df_train_1['default'] == 0], fill=True, label='default=0')\n",
    "sns.kdeplot(df_train_1['age'][df_train_1['default'] == 1], fill=True, label='default=1')\n",
    "plt.title(f\"Age KDE Plot with Hue by default\")\n",
    "plt.legend()\n",
    "plt.show()"
   ]
  },
  {
   "cell_type": "markdown",
   "id": "090bc0ab",
   "metadata": {},
   "source": [
    "**Insights**\n",
    "\n",
    "1. Orange (defaulted) group is slightly shifted to left indicating that younger folks are more likely to default on their loans"
   ]
  },
  {
   "cell_type": "markdown",
   "id": "26ae9472",
   "metadata": {},
   "source": [
    "### KDE for all the Columns"
   ]
  },
  {
   "cell_type": "code",
   "execution_count": null,
   "id": "3f2f9dea",
   "metadata": {},
   "outputs": [],
   "source": [
    "plt.figure(figsize=(24, 20))  # Width, height in inches\n",
    "\n",
    "for i, col in enumerate(columns_continuous):\n",
    "    plt.subplot(6, 4, i+1)  # 1 row, 4 columns, ith subplot\n",
    "    sns.kdeplot(df_train_1[col][df_train_1['default']==0], fill=True, label='default=0')\n",
    "    sns.kdeplot(df_train_1[col][df_train_1['default']==1], fill=True, label='default=1')\n",
    "    plt.title(col)        \n",
    "    plt.xlabel('')\n",
    "    \n",
    "plt.tight_layout()\n",
    "plt.show()"
   ]
  },
  {
   "cell_type": "markdown",
   "id": "76891dfd",
   "metadata": {},
   "source": [
    "**Insights**\n",
    "\n",
    "1. In columns: loan_tenure_months, delinquent_months, total_dpd, credit_utilization, higher values indicate high likelyhood of becoming a default. Hence these 4 looks like strong predictors\n",
    "1. In remaining columns the distributions do not give any obvious insights\n",
    "1. Why loan_amount and income did not give any signs of being strong predictors? May be when we combine these two and get loan to income ratio (LTI), that may have influence on the target variable. We will explore more later"
   ]
  },
  {
   "cell_type": "markdown",
   "id": "433e5231",
   "metadata": {},
   "source": [
    "<h3 style=\"color:blue\" align=\"center\">Feature Engineering, Feature Selection</h3>"
   ]
  },
  {
   "cell_type": "markdown",
   "id": "6eb30871",
   "metadata": {},
   "source": [
    "#### Generate Loan to Income (LTI) Ratio"
   ]
  },
  {
   "cell_type": "code",
   "execution_count": null,
   "id": "53ce814e",
   "metadata": {},
   "outputs": [],
   "source": [
    "df_train_1[[\"loan_amount\", \"income\"]].head(3)"
   ]
  },
  {
   "cell_type": "code",
   "execution_count": null,
   "id": "88bacc0a",
   "metadata": {},
   "outputs": [],
   "source": [
    "df_train_1['loan_to_income'] = round(df_train_1['loan_amount'] / df_train_1['income'],2)\n",
    "df_train_1['loan_to_income'].describe()"
   ]
  },
  {
   "cell_type": "code",
   "execution_count": null,
   "id": "6126cab2",
   "metadata": {},
   "outputs": [],
   "source": [
    "df_test['loan_to_income'] = round(df_test['loan_amount'] / df_test['income'],2)"
   ]
  },
  {
   "cell_type": "code",
   "execution_count": null,
   "id": "de5d3f27",
   "metadata": {},
   "outputs": [],
   "source": [
    "plt.figure(figsize=(8, 4))\n",
    "sns.kdeplot(df_train_1['loan_to_income'][df_train_1['default'] == 0], fill=True, label='default=0')\n",
    "sns.kdeplot(df_train_1['loan_to_income'][df_train_1['default'] == 1], fill=True, label='default=1')\n",
    "plt.title(f\"Loan to Income Ratio (LTI) KDE Plot with Hue by default\")\n",
    "plt.legend()\n",
    "plt.show()"
   ]
  },
  {
   "cell_type": "markdown",
   "id": "a1aa3eec",
   "metadata": {},
   "source": [
    "**Insights**\n",
    "1. Blue graph has majority of its values on lower side of LTI\n",
    "2. Orange graph has many values when LTI is higher indicating that higher LTI means high risk loan"
   ]
  },
  {
   "cell_type": "markdown",
   "id": "0b0b0435",
   "metadata": {},
   "source": [
    "#### Generate Delinquency Ratio"
   ]
  },
  {
   "cell_type": "code",
   "execution_count": null,
   "id": "cc7614da",
   "metadata": {},
   "outputs": [],
   "source": [
    "df_train_1['delinquency_ratio'] = (df_train_1['delinquent_months']*100 / df_train_1['total_loan_months']).round(1)\n",
    "df_test['delinquency_ratio'] = (df_test['delinquent_months']*100 / df_test['total_loan_months']).round(1)"
   ]
  },
  {
   "cell_type": "code",
   "execution_count": null,
   "id": "9c2d54dc",
   "metadata": {},
   "outputs": [],
   "source": [
    "plt.figure(figsize=(8, 4))\n",
    "sns.kdeplot(df_train_1['delinquency_ratio'][df_train_1['default'] == 0], fill=True, label='default=0')\n",
    "sns.kdeplot(df_train_1['delinquency_ratio'][df_train_1['default'] == 1], fill=True, label='default=1')\n",
    "plt.title(f\"Delinquency Ratio KDE Plot with Hue by default\")\n",
    "plt.legend()\n",
    "plt.show()"
   ]
  },
  {
   "cell_type": "markdown",
   "id": "4c00645d",
   "metadata": {},
   "source": [
    "**Insights**\n",
    "1. Blue graph has majority of its values on lower side of LTI\n",
    "2. Orange graph has many values when delinquency ratio is higher indicating some correlation on default"
   ]
  },
  {
   "cell_type": "markdown",
   "id": "f4048e2d",
   "metadata": {},
   "source": [
    "#### Generate Avg DPD Per Delinquency"
   ]
  },
  {
   "cell_type": "code",
   "execution_count": null,
   "id": "f079440a",
   "metadata": {},
   "outputs": [],
   "source": [
    "df_train_1['avg_dpd_per_delinquency'] = np.where(\n",
    "    df_train_1['delinquent_months'] != 0,\n",
    "    (df_train_1['total_dpd'] / df_train_1['delinquent_months']).round(1),\n",
    "    0\n",
    ")\n",
    "\n",
    "df_test['avg_dpd_per_delinquency'] = np.where(\n",
    "    df_test['delinquent_months'] != 0,\n",
    "    (df_test['total_dpd'] / df_test['delinquent_months']).round(1),\n",
    "    0\n",
    ")"
   ]
  },
  {
   "cell_type": "code",
   "execution_count": null,
   "id": "31d809c0",
   "metadata": {},
   "outputs": [],
   "source": [
    "plt.figure(figsize=(8, 4))\n",
    "sns.kdeplot(df_train_1['avg_dpd_per_delinquency'][df_train_1['default'] == 0], fill=True, label='default=0')\n",
    "sns.kdeplot(df_train_1['avg_dpd_per_delinquency'][df_train_1['default'] == 1], fill=True, label='default=1')\n",
    "plt.title(f\"Avg DPD Per Delinquency Ratio KDE Plot with Hue by default\")\n",
    "plt.legend()\n",
    "plt.show()"
   ]
  },
  {
   "cell_type": "markdown",
   "id": "5def0bd2",
   "metadata": {},
   "source": [
    "**Insights**\n",
    "\n",
    "1. Graph clearly shows more occurances of default cases when avg_dpd_per_delinquency is high. This means this column is a strong predictor"
   ]
  },
  {
   "cell_type": "markdown",
   "id": "a4814071",
   "metadata": {},
   "source": [
    "### Remove columns that are just unique ids and don't have influence on target"
   ]
  },
  {
   "cell_type": "code",
   "execution_count": null,
   "id": "8de2deae",
   "metadata": {},
   "outputs": [],
   "source": [
    "df_train_1.columns"
   ]
  },
  {
   "cell_type": "code",
   "execution_count": null,
   "id": "866eb2b0",
   "metadata": {},
   "outputs": [],
   "source": [
    "df_train_2 = df_train_1.drop(['cust_id', 'loan_id'],axis=\"columns\")\n",
    "df_test = df_test.drop(['cust_id', 'loan_id'],axis=\"columns\")"
   ]
  },
  {
   "cell_type": "markdown",
   "id": "c08e18d0",
   "metadata": {},
   "source": [
    "### Remove columns that business contact person asked us to remove"
   ]
  },
  {
   "cell_type": "code",
   "execution_count": null,
   "id": "7479e496",
   "metadata": {
    "scrolled": true
   },
   "outputs": [],
   "source": [
    "df_train_3 = df_train_2.drop(['disbursal_date', 'installment_start_dt', 'loan_amount', 'income', \n",
    "                              'total_loan_months', 'delinquent_months', 'total_dpd'], axis=\"columns\")\n",
    "df_test = df_test.drop(['disbursal_date', 'installment_start_dt', 'loan_amount', 'income', \n",
    "                              'total_loan_months', 'delinquent_months', 'total_dpd'], axis=\"columns\")\n",
    "df_train_3.columns"
   ]
  },
  {
   "cell_type": "code",
   "execution_count": null,
   "id": "b831a6f3",
   "metadata": {},
   "outputs": [],
   "source": [
    "df_train_3.select_dtypes(['int64', 'float64']).columns"
   ]
  },
  {
   "cell_type": "markdown",
   "id": "4a665afb",
   "metadata": {},
   "source": [
    "### VIF to measure multicolinearity"
   ]
  },
  {
   "cell_type": "code",
   "execution_count": null,
   "id": "ced1e50c",
   "metadata": {},
   "outputs": [],
   "source": [
    "X_train = df_train_3.drop('default', axis='columns')\n",
    "y_train = df_train_3['default']\n",
    "\n",
    "from sklearn.preprocessing import MinMaxScaler\n",
    "\n",
    "cols_to_scale = X_train.select_dtypes(['int64', 'float64']).columns\n",
    "\n",
    "scaler = MinMaxScaler()\n",
    "\n",
    "X_train[cols_to_scale] = scaler.fit_transform(X_train[cols_to_scale])\n",
    "X_train.describe()"
   ]
  },
  {
   "cell_type": "markdown",
   "id": "0534ca2b",
   "metadata": {},
   "source": [
    "#### Same transformation on test set"
   ]
  },
  {
   "cell_type": "code",
   "execution_count": null,
   "id": "fae63ca7",
   "metadata": {},
   "outputs": [],
   "source": [
    "X_test = df_test.drop('default', axis='columns')\n",
    "y_test = df_test['default']\n",
    "\n",
    "X_test[cols_to_scale] = scaler.transform(X_test[cols_to_scale])\n",
    "X_test.describe()"
   ]
  },
  {
   "cell_type": "code",
   "execution_count": null,
   "id": "b252e3fd",
   "metadata": {},
   "outputs": [],
   "source": [
    "from statsmodels.stats.outliers_influence import variance_inflation_factor\n",
    "\n",
    "def calculate_vif(data):\n",
    "    vif_df = pd.DataFrame()\n",
    "    vif_df['Column'] = data.columns\n",
    "    vif_df['VIF'] = [variance_inflation_factor(data.values,i) for i in range(data.shape[1])]\n",
    "    return vif_df"
   ]
  },
  {
   "cell_type": "code",
   "execution_count": null,
   "id": "666d715e",
   "metadata": {},
   "outputs": [],
   "source": [
    "X_train.head(2)"
   ]
  },
  {
   "cell_type": "code",
   "execution_count": null,
   "id": "dd1226e4",
   "metadata": {},
   "outputs": [],
   "source": [
    "vif_df = calculate_vif(X_train[cols_to_scale])\n",
    "vif_df"
   ]
  },
  {
   "cell_type": "code",
   "execution_count": null,
   "id": "de729d09",
   "metadata": {},
   "outputs": [],
   "source": [
    "features_to_drop_vif = ['sanction_amount', 'processing_fee', 'gst', 'net_disbursement','principal_outstanding']\n",
    "\n",
    "\n",
    "X_train_1 = X_train.drop(features_to_drop_vif, axis='columns')\n",
    "numeric_columns = X_train_1.select_dtypes(['int64', 'float64']).columns\n",
    "numeric_columns"
   ]
  },
  {
   "cell_type": "code",
   "execution_count": null,
   "id": "923e7905",
   "metadata": {},
   "outputs": [],
   "source": [
    "calculate_vif(X_train_1[numeric_columns])"
   ]
  },
  {
   "cell_type": "code",
   "execution_count": null,
   "id": "624f70af",
   "metadata": {},
   "outputs": [],
   "source": [
    "selected_numeric_features_vif = vif_df.Column.values\n",
    "selected_numeric_features_vif"
   ]
  },
  {
   "cell_type": "code",
   "execution_count": null,
   "id": "abdad825",
   "metadata": {},
   "outputs": [],
   "source": [
    "numeric_columns"
   ]
  },
  {
   "cell_type": "code",
   "execution_count": null,
   "id": "ab043e4d",
   "metadata": {},
   "outputs": [],
   "source": [
    "numeric_columns"
   ]
  },
  {
   "cell_type": "code",
   "execution_count": null,
   "id": "8a10528d",
   "metadata": {},
   "outputs": [],
   "source": [
    "plt.figure(figsize=(12,12))\n",
    "cm = df_train_3[numeric_columns.append(pd.Index(['default']))].corr()\n",
    "sns.heatmap(cm, annot=True, fmt='0.2f')\n",
    "plt.xticks(rotation=45, ha='right')\n",
    "plt.yticks(rotation=0)\n",
    "plt.tight_layout()\n",
    "plt.show()"
   ]
  },
  {
   "cell_type": "markdown",
   "id": "60154cfd",
   "metadata": {},
   "source": [
    "### Feature Selection: Categorical Features"
   ]
  },
  {
   "cell_type": "code",
   "execution_count": null,
   "id": "1ce32ac6",
   "metadata": {},
   "outputs": [],
   "source": [
    "X_train_1.head()"
   ]
  },
  {
   "cell_type": "markdown",
   "id": "65492f3e",
   "metadata": {},
   "source": [
    "### Calculate WOE and IV"
   ]
  },
  {
   "cell_type": "code",
   "execution_count": null,
   "id": "df3732a1",
   "metadata": {},
   "outputs": [],
   "source": [
    "def calculate_woe_iv(df, feature, target):\n",
    "    grouped = df.groupby(feature)[target].agg(['count','sum'])\n",
    "    grouped = grouped.rename(columns={'count': 'total', 'sum': 'good'})\n",
    "    grouped['bad']=grouped['total']-grouped['good']\n",
    "    \n",
    "    total_good = grouped['good'].sum()\n",
    "    total_bad = grouped['bad'].sum()\n",
    "    \n",
    "    grouped['good_pct'] = grouped['good'] / total_good\n",
    "    grouped['bad_pct'] = grouped['bad'] / total_bad\n",
    "    grouped['woe'] = np.log(grouped['good_pct']/ grouped['bad_pct'])\n",
    "    grouped['iv'] = (grouped['good_pct'] -grouped['bad_pct'])*grouped['woe']\n",
    "    \n",
    "    grouped['woe'] = grouped['woe'].replace([np.inf, -np.inf], 0)\n",
    "    grouped['iv'] = grouped['iv'].replace([np.inf, -np.inf], 0)\n",
    "    \n",
    "    total_iv = grouped['iv'].sum()\n",
    "    \n",
    "    return grouped, total_iv\n",
    "\n",
    "grouped, total_iv = calculate_woe_iv(pd.concat([X_train_1, y_train],axis=1), 'loan_purpose', 'default')\n",
    "grouped"
   ]
  },
  {
   "cell_type": "code",
   "execution_count": null,
   "id": "0bca1593",
   "metadata": {},
   "outputs": [],
   "source": [
    "X_train_1.info()"
   ]
  },
  {
   "cell_type": "code",
   "execution_count": null,
   "id": "e4705885",
   "metadata": {},
   "outputs": [],
   "source": [
    "iv_values = {}\n",
    "\n",
    "for feature in X_train_1.columns:\n",
    "    if X_train_1[feature].dtype == 'object':\n",
    "        _, iv = calculate_woe_iv(pd.concat([X_train_1, y_train],axis=1), feature, 'default' )\n",
    "    else:\n",
    "        X_binned = pd.cut(X_train_1[feature], bins=10, labels=False)\n",
    "        _, iv = calculate_woe_iv(pd.concat([X_binned, y_train],axis=1), feature, 'default' )\n",
    "    iv_values[feature] = iv\n",
    "        \n",
    "iv_values"
   ]
  },
  {
   "cell_type": "code",
   "execution_count": null,
   "id": "1b034907",
   "metadata": {},
   "outputs": [],
   "source": [
    "pd.set_option('display.float_format', lambda x: '{:.3f}'.format(x))\n",
    "\n",
    "iv_df = pd.DataFrame(list(iv_values.items()), columns=['Feature', 'IV'])\n",
    "iv_df = iv_df.sort_values(by='IV', ascending=False)\n",
    "iv_df"
   ]
  },
  {
   "cell_type": "code",
   "execution_count": null,
   "id": "bbdcab73",
   "metadata": {},
   "outputs": [],
   "source": [
    "# select features that has IV > 0.02\n",
    "selected_features_iv = [feature for feature, iv in iv_values.items() if iv > 0.02]\n",
    "selected_features_iv"
   ]
  },
  {
   "cell_type": "markdown",
   "id": "496aaf0f",
   "metadata": {},
   "source": [
    "### Feature Encoding"
   ]
  },
  {
   "cell_type": "code",
   "execution_count": null,
   "id": "b493632c",
   "metadata": {},
   "outputs": [],
   "source": [
    "X_train_reduced = X_train_1[selected_features_iv]\n",
    "X_test_reduced = X_test[selected_features_iv]"
   ]
  },
  {
   "cell_type": "code",
   "execution_count": null,
   "id": "e1e253be",
   "metadata": {
    "scrolled": true
   },
   "outputs": [],
   "source": [
    "X_train_encoded = pd.get_dummies(X_train_reduced, drop_first=True)\n",
    "X_train_encoded.head(3)"
   ]
  },
  {
   "cell_type": "code",
   "execution_count": null,
   "id": "17436bee",
   "metadata": {},
   "outputs": [],
   "source": [
    "X_test_encoded = pd.get_dummies(X_test_reduced, drop_first=True)\n",
    "X_test_encoded.head(3)"
   ]
  },
  {
   "cell_type": "markdown",
   "id": "cbb6c1b6",
   "metadata": {},
   "source": [
    "<h3 align=\"center\" style=\"color:blue\">Model Training</h3>"
   ]
  },
  {
   "cell_type": "markdown",
   "id": "764c4a7b",
   "metadata": {},
   "source": [
    "### Attempt 1\n",
    "\n",
    "1. Logistic Regression, RandomForest & XGB\n",
    "1. No handling of class imbalance"
   ]
  },
  {
   "cell_type": "code",
   "execution_count": null,
   "id": "d435a502",
   "metadata": {},
   "outputs": [],
   "source": [
    "from sklearn.linear_model import LogisticRegression\n",
    "from sklearn.metrics import classification_report\n",
    "\n",
    "model = LogisticRegression()\n",
    "model.fit(X_train_encoded, y_train)\n",
    "\n",
    "y_pred = model.predict(X_test_encoded)\n",
    "report = classification_report(y_test, y_pred)\n",
    "print(report)"
   ]
  },
  {
   "cell_type": "code",
   "execution_count": null,
   "id": "32be1fdb",
   "metadata": {},
   "outputs": [],
   "source": [
    "feature_importance = model.coef_[0]\n",
    "\n",
    "# Create a DataFrame for easier handling\n",
    "coef_df = pd.DataFrame(feature_importance, index=X_train_encoded.columns, columns=['Coefficients'])\n",
    "\n",
    "# Sort the coefficients for better visualization\n",
    "coef_df = coef_df.sort_values(by='Coefficients', ascending=True)\n",
    "\n",
    "# Plotting\n",
    "plt.figure(figsize=(8, 4))\n",
    "plt.barh(coef_df.index, coef_df['Coefficients'], color='steelblue')\n",
    "plt.xlabel('Coefficient Value')\n",
    "plt.title('Feature Importance in Logistic Regression')\n",
    "plt.show()"
   ]
  },
  {
   "cell_type": "code",
   "execution_count": null,
   "id": "bea373cc",
   "metadata": {},
   "outputs": [],
   "source": [
    "from sklearn.ensemble import RandomForestClassifier\n",
    "\n",
    "model = RandomForestClassifier()\n",
    "model.fit(X_train_encoded, y_train)\n",
    "\n",
    "y_pred = model.predict(X_test_encoded)\n",
    "report = classification_report(y_test, y_pred)\n",
    "print(report)"
   ]
  },
  {
   "cell_type": "code",
   "execution_count": null,
   "id": "38556ff4",
   "metadata": {},
   "outputs": [],
   "source": [
    "from xgboost import XGBClassifier\n",
    "\n",
    "model = XGBClassifier()\n",
    "model.fit(X_train_encoded, y_train)\n",
    "\n",
    "y_pred = model.predict(X_test_encoded)\n",
    "report = classification_report(y_test, y_pred)\n",
    "print(report)"
   ]
  },
  {
   "cell_type": "markdown",
   "id": "88423ddd",
   "metadata": {},
   "source": [
    "Since there is not much difference between XGB and Logistic, we will choose LogisticRegression as a candidate for our RandomizedSearchCV candidate it has a better interpretation."
   ]
  },
  {
   "cell_type": "markdown",
   "id": "b3401c4b",
   "metadata": {},
   "source": [
    "#### RandomizedSearch CV for Attempt 1: Logistic Regression"
   ]
  },
  {
   "cell_type": "code",
   "execution_count": null,
   "id": "c0b8433f",
   "metadata": {},
   "outputs": [],
   "source": [
    "from sklearn.model_selection import RandomizedSearchCV\n",
    "\n",
    "param_dist = {\n",
    "    'C': np.logspace(-4, 4, 20),  # Logarithmically spaced values from 10^-4 to 10^4\n",
    "    'solver': ['lbfgs', 'saga', 'liblinear', 'newton-cg']   # Algorithm to use in the optimization problem\n",
    "}\n",
    "\n",
    "# Create the Logistic Regression model\n",
    "log_reg = LogisticRegression(max_iter=10000)  # Increased max_iter for convergence\n",
    "\n",
    "# Set up RandomizedSearchCV\n",
    "random_search = RandomizedSearchCV(\n",
    "    estimator=log_reg,\n",
    "    param_distributions=param_dist,\n",
    "    n_iter=50,  # Number of parameter settings that are sampled\n",
    "    scoring='f1',\n",
    "    cv=3,  # 5-fold cross-validation\n",
    "    verbose=2,\n",
    "    random_state=42,  # Set a random state for reproducibility\n",
    "    n_jobs=-1  # Use all available cores\n",
    ")\n",
    "\n",
    "# Fit the RandomizedSearchCV to the training data\n",
    "random_search.fit(X_train_encoded, y_train)\n",
    "\n",
    "# Print the best parameters and best score\n",
    "print(f\"Best Parameters: {random_search.best_params_}\")\n",
    "print(f\"Best Score: {random_search.best_score_}\")\n",
    "\n",
    "best_model = random_search.best_estimator_\n",
    "y_pred = best_model.predict(X_test_encoded)\n",
    "print(\"Classification Report:\")\n",
    "print(classification_report(y_test, y_pred))"
   ]
  },
  {
   "cell_type": "markdown",
   "id": "7e34c4e4",
   "metadata": {},
   "source": [
    "#### RandomizedSearch CV for Attempt 1: XGBoost"
   ]
  },
  {
   "cell_type": "code",
   "execution_count": null,
   "id": "f6419486",
   "metadata": {},
   "outputs": [],
   "source": [
    "from scipy.stats import uniform, randint\n",
    "from sklearn.model_selection import RandomizedSearchCV\n",
    "\n",
    "# Define parameter distribution for RandomizedSearchCV\n",
    "param_dist = {\n",
    "    'n_estimators': [100, 150, 200, 250, 300],\n",
    "    'max_depth': [3, 4, 5, 6, 7, 8, 9, 10],\n",
    "    'learning_rate': [0.01, 0.03, 0.05, 0.1, 0.15, 0.2, 0.25, 0.3],\n",
    "    'subsample': [0.6, 0.7, 0.8, 0.9, 1.0],\n",
    "    'colsample_bytree': [0.6, 0.7, 0.8, 0.9, 1.0],\n",
    "    'scale_pos_weight': [1, 2, 3, 5, 7, 10],\n",
    "    'reg_alpha': [0.01, 0.1, 0.5, 1.0, 5.0, 10.0],  # L1 regularization term\n",
    "    'reg_lambda': [0.01, 0.1, 0.5, 1.0, 5.0, 10.0]  # L2 regularization term\n",
    "}\n",
    "\n",
    "xgb = XGBClassifier()\n",
    "\n",
    "random_search = RandomizedSearchCV(estimator=xgb, param_distributions=param_dist, n_iter=100,\n",
    "                                   scoring='f1', cv=3, verbose=1, n_jobs=-1, random_state=42)\n",
    "\n",
    "random_search.fit(X_train_encoded, y_train)\n",
    "\n",
    "# Print the best parameters and best score\n",
    "print(f\"Best Parameters: {random_search.best_params_}\")\n",
    "print(f\"Best Score: {random_search.best_score_}\")\n",
    "\n",
    "best_model = random_search.best_estimator_\n",
    "y_pred = best_model.predict(X_test_encoded)\n",
    "print(\"Classification Report:\")\n",
    "print(classification_report(y_test, y_pred))"
   ]
  },
  {
   "cell_type": "markdown",
   "id": "67dcc3e3",
   "metadata": {},
   "source": [
    "### Attempt 2\n",
    "\n",
    "1. Logistic Regression & XGB\n",
    "1. Handle Class Imbalance Using Under Sampling"
   ]
  },
  {
   "cell_type": "code",
   "execution_count": null,
   "id": "c30b030f",
   "metadata": {},
   "outputs": [],
   "source": [
    "from imblearn.under_sampling import RandomUnderSampler\n",
    "\n",
    "rus = RandomUnderSampler(random_state=42)\n",
    "X_train_res, y_train_res = rus.fit_resample(X_train_encoded, y_train)\n",
    "y_train_res.value_counts()"
   ]
  },
  {
   "cell_type": "code",
   "execution_count": null,
   "id": "0da2c2b8",
   "metadata": {},
   "outputs": [],
   "source": [
    "model = LogisticRegression()\n",
    "model.fit(X_train_res, y_train_res)\n",
    "\n",
    "y_pred = model.predict(X_test_encoded)\n",
    "report = classification_report(y_test, y_pred)\n",
    "print(report)"
   ]
  },
  {
   "cell_type": "code",
   "execution_count": null,
   "id": "6e6ede8c",
   "metadata": {
    "scrolled": true
   },
   "outputs": [],
   "source": [
    "model = XGBClassifier(**random_search.best_params_)\n",
    "model.fit(X_train_res, y_train_res)\n",
    "\n",
    "y_pred = model.predict(X_test_encoded)\n",
    "report = classification_report(y_test, y_pred)\n",
    "print(report)"
   ]
  },
  {
   "cell_type": "markdown",
   "id": "ca78a884",
   "metadata": {},
   "source": [
    "### Attempt 3\n",
    "\n",
    "1. Logistic Regression\n",
    "1. Handle Class Imbalance Using SMOTE Tomek\n",
    "1. Parameter tunning using optuna"
   ]
  },
  {
   "cell_type": "code",
   "execution_count": null,
   "id": "31b984f4",
   "metadata": {},
   "outputs": [],
   "source": [
    "from imblearn.combine import SMOTETomek\n",
    "\n",
    "smt = SMOTETomek(random_state=42)\n",
    "X_train_smt, y_train_smt = smt.fit_resample(X_train_encoded, y_train)\n",
    "y_train_smt.value_counts()"
   ]
  },
  {
   "cell_type": "code",
   "execution_count": null,
   "id": "62576c07",
   "metadata": {},
   "outputs": [],
   "source": [
    "model = LogisticRegression()\n",
    "model.fit(X_train_smt, y_train_smt)\n",
    "\n",
    "y_pred = model.predict(X_test_encoded)\n",
    "report = classification_report(y_test, y_pred)\n",
    "print(report)"
   ]
  },
  {
   "cell_type": "code",
   "execution_count": null,
   "id": "b46fafca",
   "metadata": {},
   "outputs": [],
   "source": [
    "import optuna\n",
    "from sklearn.metrics import make_scorer, f1_score\n",
    "from sklearn.model_selection import cross_val_score"
   ]
  },
  {
   "cell_type": "code",
   "execution_count": null,
   "id": "dce89507",
   "metadata": {},
   "outputs": [
    {
     "name": "stderr",
     "output_type": "stream",
     "text": [
      "[I 2024-07-24 17:50:03,044] Trial 34 finished with value: 0.9431061620128102 and parameters: {'C': 0.20067963913090395, 'solver': 'lbfgs', 'tol': 0.0005647161844581842, 'class_weight': None}. Best is trial 16 with value: 0.9463362137944905.\n",
      "[I 2024-07-24 17:50:03,217] Trial 35 finished with value: 0.9456023544586664 and parameters: {'C': 1.0897651654321943, 'solver': 'saga', 'tol': 0.001107504966127248, 'class_weight': None}. Best is trial 16 with value: 0.9463362137944905.\n",
      "[I 2024-07-24 17:50:03,388] Trial 36 finished with value: 0.9399185078171092 and parameters: {'C': 0.07189644467946245, 'solver': 'lbfgs', 'tol': 0.00527500778207466, 'class_weight': None}. Best is trial 16 with value: 0.9463362137944905.\n",
      "[I 2024-07-24 17:50:03,546] Trial 37 finished with value: 0.943479130794158 and parameters: {'C': 59.892850992562806, 'solver': 'liblinear', 'tol': 0.0926867233146634, 'class_weight': None}. Best is trial 16 with value: 0.9463362137944905.\n",
      "[I 2024-07-24 17:50:03,857] Trial 38 finished with value: 0.9457227175420296 and parameters: {'C': 8.348492342398234, 'solver': 'newton-cg', 'tol': 0.0029379680806079188, 'class_weight': None}. Best is trial 16 with value: 0.9463362137944905.\n",
      "[I 2024-07-24 17:50:03,980] Trial 39 finished with value: 0.94492782489862 and parameters: {'C': 0.539979223374152, 'solver': 'saga', 'tol': 0.028196830950946637, 'class_weight': 'balanced'}. Best is trial 16 with value: 0.9463362137944905.\n",
      "[I 2024-07-24 17:50:04,120] Trial 40 finished with value: 0.9036847146787764 and parameters: {'C': 0.003228140428558631, 'solver': 'liblinear', 'tol': 5.08937470483416e-05, 'class_weight': None}. Best is trial 16 with value: 0.9463362137944905.\n",
      "[I 2024-07-24 17:50:04,342] Trial 41 finished with value: 0.9458089334226975 and parameters: {'C': 2.410781808514779, 'solver': 'lbfgs', 'tol': 1.0410599500902423e-06, 'class_weight': None}. Best is trial 16 with value: 0.9463362137944905.\n",
      "[I 2024-07-24 17:50:04,562] Trial 42 finished with value: 0.9457937933300959 and parameters: {'C': 2.0113975866964116, 'solver': 'lbfgs', 'tol': 1.0587067227622127e-06, 'class_weight': None}. Best is trial 16 with value: 0.9463362137944905.\n",
      "[I 2024-07-24 17:50:04,766] Trial 43 finished with value: 0.9456643880044172 and parameters: {'C': 12.153208550814957, 'solver': 'lbfgs', 'tol': 2.9955950312650104e-06, 'class_weight': None}. Best is trial 16 with value: 0.9463362137944905.\n",
      "[I 2024-07-24 17:50:04,938] Trial 44 finished with value: 0.9455915325213132 and parameters: {'C': 32.85964756499381, 'solver': 'lbfgs', 'tol': 2.0913982003805353e-06, 'class_weight': None}. Best is trial 16 with value: 0.9463362137944905.\n",
      "[I 2024-07-24 17:50:05,127] Trial 45 finished with value: 0.9457515848137374 and parameters: {'C': 5.458195879339501, 'solver': 'lbfgs', 'tol': 5.557012508185128e-06, 'class_weight': 'balanced'}. Best is trial 16 with value: 0.9463362137944905.\n",
      "[I 2024-07-24 17:50:05,313] Trial 46 finished with value: 0.9438400093704399 and parameters: {'C': 0.26657608224655754, 'solver': 'lbfgs', 'tol': 2.14057345340535e-05, 'class_weight': None}. Best is trial 16 with value: 0.9463362137944905.\n",
      "[I 2024-07-24 17:50:05,765] Trial 47 finished with value: 0.9456501530935721 and parameters: {'C': 107.18566359365748, 'solver': 'saga', 'tol': 1.3257566103659193e-06, 'class_weight': None}. Best is trial 16 with value: 0.9463362137944905.\n",
      "[I 2024-07-24 17:50:06,077] Trial 48 finished with value: 0.940238582934558 and parameters: {'C': 0.1286510171371309, 'solver': 'liblinear', 'tol': 7.103676746787015e-06, 'class_weight': 'balanced'}. Best is trial 16 with value: 0.9463362137944905.\n",
      "[I 2024-07-24 17:50:06,312] Trial 49 finished with value: 0.9453086578331895 and parameters: {'C': 0.6685176880585316, 'solver': 'lbfgs', 'tol': 2.6895285508180283e-06, 'class_weight': None}. Best is trial 16 with value: 0.9463362137944905.\n"
     ]
    }
   ],
   "source": [
    "# Define the objective function for Optuna\n",
    "def objective(trial):\n",
    "    param = {\n",
    "        'C': trial.suggest_float('C', 1e-4, 1e4, log=True),  # Logarithmically spaced values\n",
    "        'solver': trial.suggest_categorical('solver', ['lbfgs', 'liblinear', 'saga', 'newton-cg']),  # Solvers\n",
    "        'tol': trial.suggest_float('tol', 1e-6, 1e-1, log=True),  # Logarithmically spaced values for tolerance\n",
    "        'class_weight': trial.suggest_categorical('class_weight', [None, 'balanced'])  # Class weights\n",
    "    }\n",
    "\n",
    "    model = LogisticRegression(**param, max_iter=10000)\n",
    "    \n",
    "    # Calculate the cross-validated f1_score\n",
    "    f1_scorer = make_scorer(f1_score, average='macro')\n",
    "    scores = cross_val_score(model, X_train_smt, y_train_smt, cv=3, scoring=f1_scorer, n_jobs=-1)\n",
    "    \n",
    "    return np.mean(scores)\n",
    "\n",
    "study_logistic = optuna.create_study(direction='maximize')\n",
    "study_logistic.optimize(objective, n_trials=50)"
   ]
  },
  {
   "cell_type": "code",
   "execution_count": null,
   "id": "b3ab5bcf",
   "metadata": {},
   "outputs": [],
   "source": [
    "print('Best trial:')\n",
    "trial = study_logistic.best_trial\n",
    "print('  F1-score: {}'.format(trial.value))\n",
    "print('  Params: ')\n",
    "for key, value in trial.params.items():\n",
    "    print('    {}: {}'.format(key, value))\n",
    "    \n",
    "best_model_logistic = LogisticRegression(**study_logistic.best_params)\n",
    "best_model_logistic.fit(X_train_smt, y_train_smt)\n",
    "\n",
    "# Evaluate on the test set\n",
    "y_pred = best_model_logistic.predict(X_test_encoded)\n",
    "\n",
    "report = classification_report(y_test, y_pred)\n",
    "print(report)"
   ]
  },
  {
   "cell_type": "markdown",
   "id": "3da3454a",
   "metadata": {},
   "source": [
    "### Attempt 4\n",
    "\n",
    "1. XGBoost\n",
    "1. Handle Class Imbalance Using SMOTE Tomek\n",
    "1. Parameter tunning using optuna"
   ]
  },
  {
   "cell_type": "code",
   "execution_count": null,
   "id": "42eac866",
   "metadata": {},
   "outputs": [
    {
     "name": "stderr",
     "output_type": "stream",
     "text": [
      "[I 2024-07-24 17:50:21,024] Trial 19 finished with value: 0.9686575050965152 and parameters: {'lambda': 7.467254836863013, 'alpha': 0.0010760336652056025, 'subsample': 0.7050245956300799, 'colsample_bytree': 0.9109307035528451, 'max_depth': 7, 'eta': 0.24318951457934052, 'gamma': 6.396555308534923, 'scale_pos_weight': 1.0554150574874037, 'min_child_weight': 3, 'max_delta_step': 7}. Best is trial 16 with value: 0.9745653348752393.\n",
      "[I 2024-07-24 17:50:21,712] Trial 20 finished with value: 0.9076701228064336 and parameters: {'lambda': 0.0037617401502813594, 'alpha': 0.13932052846659457, 'subsample': 0.9042129717857527, 'colsample_bytree': 0.5286771129632792, 'max_depth': 5, 'eta': 0.014987640761171123, 'gamma': 0.18255013186212002, 'scale_pos_weight': 1.7271820311239252, 'min_child_weight': 5, 'max_delta_step': 5}. Best is trial 16 with value: 0.9745653348752393.\n",
      "[I 2024-07-24 17:50:22,463] Trial 21 finished with value: 0.9724557781378668 and parameters: {'lambda': 9.959096478812357, 'alpha': 0.028156804051999038, 'subsample': 0.8913426420295409, 'colsample_bytree': 0.8711839432264686, 'max_depth': 7, 'eta': 0.2588441062604504, 'gamma': 1.5995382668577027, 'scale_pos_weight': 2.5831516394034946, 'min_child_weight': 4, 'max_delta_step': 7}. Best is trial 16 with value: 0.9745653348752393.\n",
      "[I 2024-07-24 17:50:23,349] Trial 22 finished with value: 0.9757213925486866 and parameters: {'lambda': 2.0558955861743247, 'alpha': 0.014545789316364544, 'subsample': 0.7915096314346539, 'colsample_bytree': 0.800699982284821, 'max_depth': 9, 'eta': 0.25383104561588005, 'gamma': 0.008646203053324752, 'scale_pos_weight': 2.357465287845261, 'min_child_weight': 5, 'max_delta_step': 7}. Best is trial 22 with value: 0.9757213925486866.\n",
      "[I 2024-07-24 17:50:24,210] Trial 23 finished with value: 0.9725697757408868 and parameters: {'lambda': 2.4695470612959896, 'alpha': 0.004595951936853414, 'subsample': 0.782180382385179, 'colsample_bytree': 0.7961555040910534, 'max_depth': 8, 'eta': 0.15806756734226665, 'gamma': 0.01739872317411146, 'scale_pos_weight': 3.398637002281359, 'min_child_weight': 7, 'max_delta_step': 9}. Best is trial 22 with value: 0.9757213925486866.\n",
      "[I 2024-07-24 17:50:24,940] Trial 24 finished with value: 0.9720617558898365 and parameters: {'lambda': 4.128172968052753, 'alpha': 0.07236080887276262, 'subsample': 0.7908655009845103, 'colsample_bytree': 0.8085455075023293, 'max_depth': 7, 'eta': 0.23419073573522117, 'gamma': 3.0665928841122496, 'scale_pos_weight': 1.8746824288133688, 'min_child_weight': 5, 'max_delta_step': 6}. Best is trial 22 with value: 0.9757213925486866.\n",
      "[I 2024-07-24 17:50:25,610] Trial 25 finished with value: 0.9682480595069154 and parameters: {'lambda': 1.3628142115486601, 'alpha': 0.014324702888640312, 'subsample': 0.700170380201829, 'colsample_bytree': 0.8366922538699268, 'max_depth': 5, 'eta': 0.2655869820823345, 'gamma': 1.0854834042817145, 'scale_pos_weight': 4.62440915178807, 'min_child_weight': 3, 'max_delta_step': 7}. Best is trial 22 with value: 0.9757213925486866.\n",
      "[I 2024-07-24 17:50:26,483] Trial 26 finished with value: 0.9745343634714198 and parameters: {'lambda': 4.789375891248264, 'alpha': 0.0023671343870729925, 'subsample': 0.8573832730071937, 'colsample_bytree': 0.9226860353972846, 'max_depth': 9, 'eta': 0.2175118878070006, 'gamma': 0.9108590761668462, 'scale_pos_weight': 2.8745706617199347, 'min_child_weight': 7, 'max_delta_step': 4}. Best is trial 22 with value: 0.9757213925486866.\n",
      "[I 2024-07-24 17:50:27,121] Trial 27 finished with value: 0.9677076595757329 and parameters: {'lambda': 0.05112461190343191, 'alpha': 0.003243333237713204, 'subsample': 0.738660801226097, 'colsample_bytree': 0.9381568000937345, 'max_depth': 9, 'eta': 0.21002222892909275, 'gamma': 8.222019596033135, 'scale_pos_weight': 2.6833534779207167, 'min_child_weight': 7, 'max_delta_step': 4}. Best is trial 22 with value: 0.9757213925486866.\n",
      "[I 2024-07-24 17:50:27,978] Trial 28 finished with value: 0.9731878496954387 and parameters: {'lambda': 0.29332629139966504, 'alpha': 0.00202700276093603, 'subsample': 0.4015376599962753, 'colsample_bytree': 0.757850727452593, 'max_depth': 9, 'eta': 0.22998494700627134, 'gamma': 1.5219187652158828, 'scale_pos_weight': 2.947879743539474, 'min_child_weight': 8, 'max_delta_step': 2}. Best is trial 22 with value: 0.9757213925486866.\n",
      "[I 2024-07-24 17:50:28,819] Trial 29 finished with value: 0.9714273494083597 and parameters: {'lambda': 4.35464281244188, 'alpha': 0.005977154192410199, 'subsample': 0.6401044630589243, 'colsample_bytree': 0.7159635676462398, 'max_depth': 8, 'eta': 0.1982884392207866, 'gamma': 0.7383390188429331, 'scale_pos_weight': 4.9426499707347205, 'min_child_weight': 5, 'max_delta_step': 0}. Best is trial 22 with value: 0.9757213925486866.\n",
      "[I 2024-07-24 17:50:29,471] Trial 30 finished with value: 0.9654601344078846 and parameters: {'lambda': 3.8859580829837492, 'alpha': 0.01282741919283631, 'subsample': 0.8609811340813682, 'colsample_bytree': 0.9234523226725735, 'max_depth': 9, 'eta': 0.17162462447880267, 'gamma': 9.96701078750218, 'scale_pos_weight': 3.388824246227886, 'min_child_weight': 6, 'max_delta_step': 3}. Best is trial 22 with value: 0.9757213925486866.\n",
      "[I 2024-07-24 17:50:30,175] Trial 31 finished with value: 0.9729717970588171 and parameters: {'lambda': 5.447158858785024, 'alpha': 0.022576178821821606, 'subsample': 0.9323316998209419, 'colsample_bytree': 0.830854932242608, 'max_depth': 6, 'eta': 0.2486591694403743, 'gamma': 0.0024287926755194866, 'scale_pos_weight': 1.3655250271388184, 'min_child_weight': 3, 'max_delta_step': 5}. Best is trial 22 with value: 0.9757213925486866.\n",
      "[I 2024-07-24 17:50:30,937] Trial 32 finished with value: 0.9746384128058992 and parameters: {'lambda': 1.8689790192542477, 'alpha': 0.009604376940064654, 'subsample': 0.8271275089117391, 'colsample_bytree': 0.8840546509010332, 'max_depth': 7, 'eta': 0.2779503594497067, 'gamma': 0.6928089519111125, 'scale_pos_weight': 2.0979358317355574, 'min_child_weight': 5, 'max_delta_step': 6}. Best is trial 22 with value: 0.9757213925486866.\n",
      "[I 2024-07-24 17:50:31,833] Trial 33 finished with value: 0.9746538146589242 and parameters: {'lambda': 1.8482257889464806, 'alpha': 0.008833676294488838, 'subsample': 0.8110502711579799, 'colsample_bytree': 0.9545460110331504, 'max_depth': 8, 'eta': 0.27418068677327123, 'gamma': 0.7680142883267742, 'scale_pos_weight': 2.279206537324242, 'min_child_weight': 6, 'max_delta_step': 6}. Best is trial 22 with value: 0.9757213925486866.\n",
      "[I 2024-07-24 17:50:32,633] Trial 34 finished with value: 0.9737757209760796 and parameters: {'lambda': 1.3252483638423538, 'alpha': 0.00949042631401588, 'subsample': 0.798846143939112, 'colsample_bytree': 0.9582845562212217, 'max_depth': 8, 'eta': 0.28124155024032726, 'gamma': 1.7618527651485512, 'scale_pos_weight': 2.176224039689898, 'min_child_weight': 5, 'max_delta_step': 6}. Best is trial 22 with value: 0.9757213925486866.\n",
      "[I 2024-07-24 17:50:33,325] Trial 35 finished with value: 0.9709255849101414 and parameters: {'lambda': 0.6415257071587069, 'alpha': 0.04653732041863839, 'subsample': 0.7500378349290476, 'colsample_bytree': 0.8853714732634437, 'max_depth': 7, 'eta': 0.281081426907388, 'gamma': 3.959249019464206, 'scale_pos_weight': 1.0652929352193337, 'min_child_weight': 6, 'max_delta_step': 6}. Best is trial 22 with value: 0.9757213925486866.\n",
      "[I 2024-07-24 17:50:34,001] Trial 36 finished with value: 0.9701405556048291 and parameters: {'lambda': 0.3192574260345916, 'alpha': 0.008295686369055356, 'subsample': 0.8250121245050698, 'colsample_bytree': 0.7579963065596396, 'max_depth': 6, 'eta': 0.2782244284584274, 'gamma': 2.900522130279144, 'scale_pos_weight': 3.9817946257237025, 'min_child_weight': 5, 'max_delta_step': 5}. Best is trial 22 with value: 0.9757213925486866.\n",
      "[I 2024-07-24 17:50:34,845] Trial 37 finished with value: 0.974024621967931 and parameters: {'lambda': 2.062946308483227, 'alpha': 0.004321852870290277, 'subsample': 0.8234542960888911, 'colsample_bytree': 0.6807215985759144, 'max_depth': 8, 'eta': 0.29670404270402745, 'gamma': 0.6505785303174839, 'scale_pos_weight': 2.086729043410697, 'min_child_weight': 8, 'max_delta_step': 8}. Best is trial 22 with value: 0.9757213925486866.\n"
     ]
    },
    {
     "name": "stderr",
     "output_type": "stream",
     "text": [
      "[I 2024-07-24 17:50:35,499] Trial 38 finished with value: 0.9678741393570025 and parameters: {'lambda': 0.9976520900512768, 'alpha': 9.588367878066226, 'subsample': 0.9370325994727099, 'colsample_bytree': 0.8458403786460049, 'max_depth': 8, 'eta': 0.23703830104167334, 'gamma': 7.436097449057038, 'scale_pos_weight': 1.589949873720893, 'min_child_weight': 6, 'max_delta_step': 9}. Best is trial 22 with value: 0.9757213925486866.\n",
      "[I 2024-07-24 17:50:36,304] Trial 39 finished with value: 0.9723537755942081 and parameters: {'lambda': 0.018929869665056154, 'alpha': 0.05977713969206375, 'subsample': 0.7575138892644601, 'colsample_bytree': 0.7521905892114831, 'max_depth': 7, 'eta': 0.20127460185620993, 'gamma': 1.6680128334253785, 'scale_pos_weight': 3.3162723303872665, 'min_child_weight': 2, 'max_delta_step': 6}. Best is trial 22 with value: 0.9757213925486866.\n",
      "[I 2024-07-24 17:50:37,036] Trial 40 finished with value: 0.9614659851004902 and parameters: {'lambda': 0.4677438044466537, 'alpha': 0.158331610488213, 'subsample': 0.8514175450029751, 'colsample_bytree': 0.956448943170808, 'max_depth': 6, 'eta': 0.08703594378404073, 'gamma': 4.21896500937175, 'scale_pos_weight': 4.272151662599784, 'min_child_weight': 3, 'max_delta_step': 3}. Best is trial 22 with value: 0.9757213925486866.\n",
      "[I 2024-07-24 17:50:37,930] Trial 41 finished with value: 0.9748422693846545 and parameters: {'lambda': 3.3066623418852625, 'alpha': 0.0020854464327327233, 'subsample': 0.8619456579372498, 'colsample_bytree': 0.9025948104541591, 'max_depth': 10, 'eta': 0.21413976116397415, 'gamma': 1.0383952609152656, 'scale_pos_weight': 2.513603661586608, 'min_child_weight': 7, 'max_delta_step': 4}. Best is trial 22 with value: 0.9757213925486866.\n",
      "[I 2024-07-24 17:50:38,631] Trial 42 finished with value: 0.970038838889992 and parameters: {'lambda': 2.8775232624790226, 'alpha': 0.002844658184342758, 'subsample': 0.8173101669240149, 'colsample_bytree': 0.8988333428304454, 'max_depth': 10, 'eta': 0.2218849817594363, 'gamma': 5.440499495887848, 'scale_pos_weight': 2.282427409865201, 'min_child_weight': 8, 'max_delta_step': 4}. Best is trial 22 with value: 0.9757213925486866.\n",
      "[I 2024-07-24 17:50:39,538] Trial 43 finished with value: 0.9760725716798427 and parameters: {'lambda': 1.8833482705914215, 'alpha': 0.002126030026107074, 'subsample': 0.8720693134478268, 'colsample_bytree': 0.8256536033483778, 'max_depth': 10, 'eta': 0.26360299840274976, 'gamma': 0.5950364338340843, 'scale_pos_weight': 2.538937665800231, 'min_child_weight': 7, 'max_delta_step': 5}. Best is trial 43 with value: 0.9760725716798427.\n",
      "[I 2024-07-24 17:50:40,280] Trial 44 finished with value: 0.9713246086446764 and parameters: {'lambda': 1.6571758691719434, 'alpha': 0.0012302196523246212, 'subsample': 0.7215470516439096, 'colsample_bytree': 0.8227904758754837, 'max_depth': 10, 'eta': 0.2691059552902258, 'gamma': 3.2865002057104133, 'scale_pos_weight': 6.547702497151697, 'min_child_weight': 7, 'max_delta_step': 3}. Best is trial 43 with value: 0.9760725716798427.\n",
      "[I 2024-07-24 17:50:41,186] Trial 45 finished with value: 0.9747123442827226 and parameters: {'lambda': 0.8317076601031941, 'alpha': 0.0015848743586843912, 'subsample': 0.6566961790191964, 'colsample_bytree': 0.9688380849230961, 'max_depth': 10, 'eta': 0.2869006930540659, 'gamma': 0.6791847537434792, 'scale_pos_weight': 2.56053227638692, 'min_child_weight': 8, 'max_delta_step': 5}. Best is trial 43 with value: 0.9760725716798427.\n",
      "[I 2024-07-24 17:50:42,074] Trial 46 finished with value: 0.9745660498888356 and parameters: {'lambda': 0.6738319197571504, 'alpha': 0.0017512720556615133, 'subsample': 0.6714557403850734, 'colsample_bytree': 0.9685593035298294, 'max_depth': 10, 'eta': 0.29816527583502966, 'gamma': 1.0082480953956428, 'scale_pos_weight': 2.5825665930172823, 'min_child_weight': 8, 'max_delta_step': 4}. Best is trial 43 with value: 0.9760725716798427.\n",
      "[I 2024-07-24 17:50:42,948] Trial 47 finished with value: 0.9720576968840074 and parameters: {'lambda': 0.9863655661062848, 'alpha': 0.001827245477602344, 'subsample': 0.5776262298523822, 'colsample_bytree': 0.9308835387873783, 'max_depth': 10, 'eta': 0.1835120833092513, 'gamma': 2.628677879501258, 'scale_pos_weight': 3.8845149751109735, 'min_child_weight': 9, 'max_delta_step': 5}. Best is trial 43 with value: 0.9760725716798427.\n",
      "[I 2024-07-24 17:50:43,880] Trial 48 finished with value: 0.9727614282911426 and parameters: {'lambda': 2.8293759771159315, 'alpha': 0.0016562885697409648, 'subsample': 0.654826099091483, 'colsample_bytree': 0.9820114453480421, 'max_depth': 10, 'eta': 0.26588804905040053, 'gamma': 1.880148408970786, 'scale_pos_weight': 7.857093285470361, 'min_child_weight': 7, 'max_delta_step': 2}. Best is trial 43 with value: 0.9760725716798427.\n",
      "[I 2024-07-24 17:50:44,768] Trial 49 finished with value: 0.9727178391476506 and parameters: {'lambda': 6.323012587333227, 'alpha': 0.0036879413893838885, 'subsample': 0.5270517178160224, 'colsample_bytree': 0.5482103850363771, 'max_depth': 9, 'eta': 0.25574294810790243, 'gamma': 1.2827243724389774, 'scale_pos_weight': 3.019655693295651, 'min_child_weight': 9, 'max_delta_step': 5}. Best is trial 43 with value: 0.9760725716798427.\n"
     ]
    }
   ],
   "source": [
    "# Define the objective function for Optuna\n",
    "def objective(trial):\n",
    "    param = {\n",
    "        'objective': 'binary:logistic',\n",
    "        'eval_metric': 'logloss',\n",
    "        'verbosity': 0,\n",
    "        'booster': 'gbtree',\n",
    "        'lambda': trial.suggest_float('lambda', 1e-3, 10.0, log=True),\n",
    "        'alpha': trial.suggest_float('alpha', 1e-3, 10.0, log=True),\n",
    "        'subsample': trial.suggest_float('subsample', 0.4, 1.0),\n",
    "        'colsample_bytree': trial.suggest_float('colsample_bytree', 0.4, 1.0),\n",
    "        'max_depth': trial.suggest_int('max_depth', 3, 10),\n",
    "        'eta': trial.suggest_float('eta', 0.01, 0.3),\n",
    "        'gamma': trial.suggest_float('gamma', 0, 10),\n",
    "        'scale_pos_weight': trial.suggest_float('scale_pos_weight', 1, 10),\n",
    "        'min_child_weight': trial.suggest_int('min_child_weight', 1, 10),\n",
    "        'max_delta_step': trial.suggest_int('max_delta_step', 0, 10)\n",
    "    }\n",
    "\n",
    "    model = XGBClassifier(**param)\n",
    "    \n",
    "    # Calculate the cross-validated f1_score\n",
    "    f1_scorer = make_scorer(f1_score, average='macro')\n",
    "    scores = cross_val_score(model, X_train_smt, y_train_smt, cv=3, scoring=f1_scorer, n_jobs=-1)\n",
    "    \n",
    "    return np.mean(scores)\n",
    "\n",
    "study_xgb = optuna.create_study(direction='maximize')\n",
    "study_xgb.optimize(objective, n_trials=50)"
   ]
  },
  {
   "cell_type": "code",
   "execution_count": null,
   "id": "0132c57a",
   "metadata": {},
   "outputs": [],
   "source": [
    "print('Best trial:')\n",
    "trial = study_xgb.best_trial\n",
    "print('  F1-score: {}'.format(trial.value))\n",
    "print('  Params: ')\n",
    "for key, value in trial.params.items():\n",
    "    print('    {}: {}'.format(key, value))\n",
    "    \n",
    "best_params = study_xgb.best_params\n",
    "best_model_xgb = XGBClassifier(**best_params)\n",
    "best_model_xgb.fit(X_train_smt, y_train_smt)\n",
    "\n",
    "# Evaluate on the test set\n",
    "y_pred = best_model_xgb.predict(X_test_encoded)\n",
    "\n",
    "report = classification_report(y_test, y_pred)\n",
    "print(report)"
   ]
  },
  {
   "cell_type": "markdown",
   "id": "ae3fa933",
   "metadata": {},
   "source": [
    "## Model Evaluation : ROC/AUC"
   ]
  },
  {
   "cell_type": "code",
   "execution_count": null,
   "id": "7d660ad7",
   "metadata": {},
   "outputs": [],
   "source": [
    "y_pred = best_model_logistic.predict(X_test_encoded)\n",
    "report = classification_report(y_test, y_pred)\n",
    "print(report)"
   ]
  },
  {
   "cell_type": "code",
   "execution_count": null,
   "id": "08a81824",
   "metadata": {},
   "outputs": [],
   "source": [
    "from sklearn.metrics import roc_curve\n",
    "\n",
    "probabilities = best_model_logistic.predict_proba(X_test_encoded)[:,1]\n",
    "fpr, tpr, thresholds = roc_curve(y_test, probabilities)\n",
    "\n",
    "fpr[:5], tpr[:5], thresholds[:5]"
   ]
  },
  {
   "cell_type": "code",
   "execution_count": null,
   "id": "f786cce9",
   "metadata": {},
   "outputs": [],
   "source": [
    "from sklearn.metrics import auc\n",
    "\n",
    "area = auc(fpr, tpr)\n",
    "area"
   ]
  },
  {
   "cell_type": "code",
   "execution_count": null,
   "id": "3b4eeaf3",
   "metadata": {},
   "outputs": [],
   "source": [
    "plt.figure()\n",
    "plt.plot(fpr, tpr, color='darkorange', lw=2, label='ROC curve (area = %0.2f)' % area)\n",
    "plt.plot([0, 1], [0, 1], color='navy', lw=2, linestyle='--')\n",
    "plt.xlim([0.0, 1.0])\n",
    "plt.ylim([0.0, 1.05])\n",
    "plt.xlabel('False Positive Rate')\n",
    "plt.ylabel('True Positive Rate')\n",
    "plt.title('Receiver Operating Characteristic')\n",
    "plt.legend(loc=\"lower right\")\n",
    "plt.show()"
   ]
  },
  {
   "cell_type": "markdown",
   "id": "f7e0de04",
   "metadata": {},
   "source": [
    "## Model Evaluation : Rankordering, KS statistic, Gini coeff"
   ]
  },
  {
   "cell_type": "code",
   "execution_count": null,
   "id": "d06fcdb7",
   "metadata": {
    "scrolled": true
   },
   "outputs": [],
   "source": [
    "probabilities = best_model_logistic.predict_proba(X_test_encoded)[:,1]\n",
    "\n",
    "df_eval = pd.DataFrame({\n",
    "    'Default Truth': y_test,\n",
    "    'Default Probability': probabilities\n",
    "})\n",
    "df_eval.head(3)"
   ]
  },
  {
   "cell_type": "code",
   "execution_count": null,
   "id": "78555512",
   "metadata": {},
   "outputs": [],
   "source": [
    "df_eval['Decile'] = pd.qcut(df_eval['Default Probability'], 10, labels=False, duplicates='drop')\n",
    "df_eval.head(3)"
   ]
  },
  {
   "cell_type": "code",
   "execution_count": null,
   "id": "51262094",
   "metadata": {},
   "outputs": [],
   "source": [
    "df_eval[df_eval.Decile==8]['Default Probability'].describe()"
   ]
  },
  {
   "cell_type": "code",
   "execution_count": null,
   "id": "8ea3951c",
   "metadata": {
    "scrolled": true
   },
   "outputs": [],
   "source": [
    "df_decile = df_eval.groupby('Decile').apply(lambda x: pd.Series({\n",
    "    'Minimum Probability': x['Default Probability'].min(),\n",
    "    'Maximum Probability': x['Default Probability'].max(),\n",
    "    'Events': x['Default Truth'].sum(),\n",
    "    'Non-events': x['Default Truth'].count() - x['Default Truth'].sum(),    \n",
    "}))\n",
    "df_decile.reset_index(inplace=True)\n",
    "df_decile"
   ]
  },
  {
   "cell_type": "code",
   "execution_count": null,
   "id": "8540ba3c",
   "metadata": {},
   "outputs": [],
   "source": [
    "df_decile['Event Rate'] = df_decile['Events']*100 / (df_decile['Events']+df_decile['Non-events'])\n",
    "df_decile['Non-event Rate'] = df_decile['Non-events']*100 / (df_decile['Events']+df_decile['Non-events'])\n",
    "df_decile"
   ]
  },
  {
   "cell_type": "code",
   "execution_count": null,
   "id": "85022d17",
   "metadata": {},
   "outputs": [],
   "source": [
    "df_decile = df_decile.sort_values(by='Decile', ascending=False).reset_index(drop=True)\n",
    "df_decile"
   ]
  },
  {
   "cell_type": "code",
   "execution_count": null,
   "id": "d53603dd",
   "metadata": {},
   "outputs": [],
   "source": [
    "df_decile['Cum Events'] =  df_decile['Events'].cumsum()\n",
    "df_decile['Cum Non-events'] =  df_decile['Non-events'].cumsum()\n",
    "df_decile"
   ]
  },
  {
   "cell_type": "code",
   "execution_count": null,
   "id": "9c102674",
   "metadata": {},
   "outputs": [],
   "source": [
    "df_decile['Cum Event Rate'] = df_decile['Cum Events'] * 100 / df_decile['Events'].sum()\n",
    "df_decile['Cum Non-event Rate'] = df_decile['Cum Non-events']*100 / df_decile['Non-events'].sum()\n",
    "df_decile"
   ]
  },
  {
   "cell_type": "code",
   "execution_count": null,
   "id": "2d42b9a1",
   "metadata": {},
   "outputs": [],
   "source": [
    "df_decile['KS'] = abs(df_decile['Cum Event Rate'] - df_decile['Cum Non-event Rate'])\n",
    "df_decile"
   ]
  },
  {
   "cell_type": "markdown",
   "id": "9e7ba598",
   "metadata": {},
   "source": [
    "To assess whether rank ordering is followed, we should look at whether higher deciles (those with higher predicted probabilities) have higher event rates compared to lower deciles. Rank ordering means that as you move from the top decile to the bottom decile, the event rate should generally decrease.\n",
    "\n",
    "Non-Events - termed as good (customers) who do not default. Events - termed as bad (customers) who default.\n",
    "\n",
    "Events and Non-Events terms are interchanged based on usecase to usecase.\n",
    "\n",
    "eg: for marketing usecase, which customer to reach out (who will take loan based on offers) will be events - here it will termed as good, and the customers who will not take loans will be non-events (bad).\n",
    "\n",
    "**Insights from the Decile Table**\n",
    "\n",
    "1. Top Deciles\n",
    "\n",
    "* The first decile (Decile 9) has a high event rate of 72.00% and a non-event rate of 28.00%. This indicates that the model is highly confident in predicting events in this decile.\n",
    "* The second decile (Decile 8) also shows a significant event rate of 12.72%, with a cumulative event rate reaching 98.6%.\n",
    "\n",
    "2. Middle Deciles:\n",
    "\n",
    "* Deciles 7 and 6 show a significant drop in event rates\n",
    "\n",
    "3. Lower Deciles:\n",
    "\n",
    "* Deciles 5 to 0 show zero events, with all predictions being non-events. These deciles collectively have a non-event rate of 100%.\n",
    "\n",
    "4. KS Statistic:\n",
    "\n",
    "* The KS statistic, which is the maximum difference between cumulative event rates and cumulative non-event rates, is highest at Decile 8 with a value of 85.98%. This suggests that the model performs best at distinguishing between events and non-events up to this decile.\n",
    "\n",
    "* The KS value gradually decreases in the following deciles, indicating a decrease in model performance for distinguishing between events and non-events.\n",
    "\n",
    "**KS Value**\n",
    "\n",
    "The highest KS value is 85.98%, found at Decile 8. This indicates that the model's performance in distinguishing between events and non-events is most significant at this decile. (If KS is in top 3 decile and score above 40, it is considered a good predictive model.)"
   ]
  },
  {
   "cell_type": "code",
   "execution_count": null,
   "id": "81f2c816",
   "metadata": {
    "scrolled": true
   },
   "outputs": [],
   "source": [
    "gini_coefficient = 2 * area - 1\n",
    "\n",
    "print(\"AUC:\", area)\n",
    "print(\"Gini Coefficient:\", gini_coefficient)"
   ]
  },
  {
   "cell_type": "markdown",
   "id": "993c1504",
   "metadata": {},
   "source": [
    "AUC of 0.98: The model is very good at distinguishing between events and non-events.\n",
    "\n",
    "Gini coefficient of 0.96: This further confirms that the model is highly effective in its predictions, with almost perfect rank ordering capability.\n",
    "\n",
    "The Gini coefficient ranges from -1 to 1, where a value closer to 1 signifies a perfect model, 0 indicates a model with no discriminative power, and -1 signifies a perfectly incorrect model."
   ]
  },
  {
   "cell_type": "markdown",
   "id": "5753c119",
   "metadata": {},
   "source": [
    "#### Finalize The Model and Visualize Feature Importance"
   ]
  },
  {
   "cell_type": "code",
   "execution_count": null,
   "id": "a761b94c",
   "metadata": {},
   "outputs": [],
   "source": [
    "final_model = best_model_logistic\n",
    "\n",
    "feature_importance = final_model.coef_[0]\n",
    "\n",
    "# Create a DataFrame for easier handling\n",
    "coef_df = pd.DataFrame(feature_importance, index=X_train_encoded.columns, columns=['Coefficients'])\n",
    "\n",
    "# Sort the coefficients for better visualization\n",
    "coef_df = coef_df.sort_values(by='Coefficients', ascending=True)\n",
    "\n",
    "# Plotting\n",
    "plt.figure(figsize=(8, 4))\n",
    "plt.barh(coef_df.index, coef_df['Coefficients'], color='steelblue')\n",
    "plt.xlabel('Coefficient Value')\n",
    "plt.title('Feature Importance in Logistic Regression')\n",
    "plt.show()"
   ]
  },
  {
   "cell_type": "markdown",
   "id": "9b3a63f7",
   "metadata": {},
   "source": [
    "### Save the Model"
   ]
  },
  {
   "cell_type": "code",
   "execution_count": null,
   "id": "d71b448e",
   "metadata": {
    "scrolled": true
   },
   "outputs": [],
   "source": [
    "X_test_encoded.head(2)"
   ]
  },
  {
   "cell_type": "code",
   "execution_count": null,
   "id": "82ef5fdc",
   "metadata": {},
   "outputs": [],
   "source": [
    "X_test_encoded.columns"
   ]
  },
  {
   "cell_type": "code",
   "execution_count": null,
   "id": "5fc52ac3",
   "metadata": {},
   "outputs": [],
   "source": [
    "cols_to_scale"
   ]
  },
  {
   "cell_type": "code",
   "execution_count": null,
   "id": "fa6fca37",
   "metadata": {},
   "outputs": [],
   "source": [
    "X_train_encoded.columns"
   ]
  },
  {
   "cell_type": "code",
   "execution_count": null,
   "id": "a852e281",
   "metadata": {},
   "outputs": [],
   "source": [
    "from joblib import dump\n",
    "\n",
    "model_data = {\n",
    "    'model': final_model,\n",
    "    'features': X_train_encoded.columns,\n",
    "    'scaler': scaler,\n",
    "    'cols_to_scale': cols_to_scale\n",
    "}\n",
    "dump(model_data, 'artifacts/model_data.joblib')"
   ]
  },
  {
   "cell_type": "code",
   "execution_count": null,
   "id": "753cf846",
   "metadata": {
    "scrolled": true
   },
   "outputs": [],
   "source": [
    "final_model.coef_, final_model.intercept_"
   ]
  },
  {
   "cell_type": "code",
   "execution_count": null,
   "id": "d1b66e94-4606-48eb-a68f-a6cbaade1d04",
   "metadata": {},
   "outputs": [],
   "source": []
  }
 ],
 "metadata": {
  "kernelspec": {
   "display_name": "Python 3 (ipykernel)",
   "language": "python",
   "name": "python3"
  },
  "language_info": {
   "codemirror_mode": {
    "name": "ipython",
    "version": 3
   },
   "file_extension": ".py",
   "mimetype": "text/x-python",
   "name": "python",
   "nbconvert_exporter": "python",
   "pygments_lexer": "ipython3",
   "version": "3.13.1"
  }
 },
 "nbformat": 4,
 "nbformat_minor": 5
}
